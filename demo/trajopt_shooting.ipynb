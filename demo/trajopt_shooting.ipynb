{
  "cells": [
    {
      "cell_type": "markdown",
      "metadata": {
        "id": "view-in-github",
        "colab_type": "text"
      },
      "source": [
        "<a href=\"https://colab.research.google.com/github/UW-CTRL/AA548-spr2024/blob/main/demo/trajopt_shooting.ipynb\" target=\"_parent\"><img src=\"https://colab.research.google.com/assets/colab-badge.svg\" alt=\"Open In Colab\"/></a>"
      ]
    },
    {
      "cell_type": "code",
      "execution_count": null,
      "metadata": {
        "id": "rt9beOAH1jEY"
      },
      "outputs": [],
      "source": [
        "import numpy as np\n",
        "import matplotlib.pyplot as plt\n",
        "import cvxpy as cp\n"
      ]
    },
    {
      "cell_type": "code",
      "execution_count": null,
      "metadata": {
        "id": "90Dn5SiVAO6Y"
      },
      "outputs": [],
      "source": [
        "dt = 0.1\n",
        "# state: [x, y, vx, vy]\n",
        "# control: [ax, ay]\n",
        "A_dynamics = np.array([[1., 0., dt, 0.],\n",
        "                        [0., 1., 0., dt],\n",
        "                        [0., 0., 1., 0.],\n",
        "                        [0., 0., 0., 1.]])\n",
        "\n",
        "B_dynamics = np.array([[0.5 * dt**2, 0.],\n",
        "                        [0., 0.5 * dt**2],\n",
        "                        [dt, 0.],\n",
        "                        [0., dt]])"
      ]
    },
    {
      "cell_type": "markdown",
      "metadata": {
        "id": "qfDto6prAaDd"
      },
      "source": [
        "## Shooting method"
      ]
    },
    {
      "cell_type": "code",
      "execution_count": null,
      "metadata": {
        "id": "KW364B-mAY6O"
      },
      "outputs": [],
      "source": [
        "T = 20  # time steps\n",
        "n = 4   # state dimension\n",
        "m = 2   # control dimension\n",
        "\n",
        "us = cp.Variable([T,m])   # optimization variable.\n",
        "\n",
        "# quadratic cost matrices (play around with these numbers)\n",
        "Q = np.diag([1., 2., 0., 2.])\n",
        "Qt = np.eye(n) * 5.0\n",
        "R = np.diag([0., 2.])\n",
        "discount = 1.0   # you can add a discount or markup to make running cost time dependent\n",
        "\n",
        "goal_state = np.zeros(n)\n",
        "initial_state = np.array([-4, 0., 0., 2.])\n",
        "state = initial_state\n",
        "u_max = 2.\n",
        "\n",
        "\n",
        "objective = 0\n",
        "constraints = []\n",
        "\n",
        "for t in range(T):\n",
        "    objective += discount**t * (cp.quad_form(state, Q) + cp.quad_form(us[t], R))\n",
        "    state = A_dynamics @ state + B_dynamics @ us[t]\n",
        "    constraints += [cp.norm(us[t], 2) <= u_max]\n",
        "\n",
        "# add or remove goal_state cost or goal_state constraint\n",
        "objective += cp.quad_form(state - goal_state, Qt)\n",
        "# constraints += [state == goal_state]\n",
        "\n",
        "problem = cp.Problem(cp.Minimize(objective), constraints)\n",
        "problem.solve(verbose=True)"
      ]
    },
    {
      "cell_type": "code",
      "execution_count": null,
      "metadata": {
        "id": "YmzCBBYpGwc-"
      },
      "outputs": [],
      "source": [
        "states = [initial_state]\n",
        "for t in range(T):\n",
        "    states.append(A_dynamics @ states[t] + B_dynamics @ us.value[t])\n",
        "states = np.stack(states)"
      ]
    },
    {
      "cell_type": "code",
      "execution_count": null,
      "metadata": {
        "id": "Asd9oufgGfnX"
      },
      "outputs": [],
      "source": [
        "plt.figure(figsize=(15,5))\n",
        "\n",
        "plt.subplot(1,2,1)\n",
        "plt.plot(states[:,0], states[:,1])\n",
        "plt.quiver(states[:,0], states[:,1], states[:,2], states[:,3], scale=30, width=.003)\n",
        "plt.quiver(states[:-1,0], states[:-1,1], us.value[:,0], us.value[:,1], scale=30, width=.003, color='red')\n",
        "plt.title(\"Optimal Trajectory with velocity and acceleration vector\")\n",
        "plt.xlabel(\"$x$ position\")\n",
        "plt.ylabel(\"$y$ position\")\n",
        "plt.grid()\n",
        "\n",
        "plt.subplot(1,2,2)\n",
        "plt.plot(us.value)\n",
        "plt.plot(np.linalg.norm(us.value, 2, axis=1), '--')\n",
        "plt.title(\"Optimal Control Sequence\")\n",
        "plt.xlabel(\"Time (s)\")\n",
        "plt.ylabel(\"Acceleration\")\n",
        "plt.legend([\"$a_x$\", \"$a_y$\", \"$\\|a\\|_2$\"])\n",
        "plt.grid()"
      ]
    },
    {
      "cell_type": "code",
      "execution_count": null,
      "metadata": {
        "id": "jYCDOtMllu6M"
      },
      "outputs": [],
      "source": []
    }
  ],
  "metadata": {
    "colab": {
      "provenance": [],
      "include_colab_link": true
    },
    "kernelspec": {
      "display_name": "Python 3 (ipykernel)",
      "language": "python",
      "name": "python3"
    },
    "language_info": {
      "codemirror_mode": {
        "name": "ipython",
        "version": 3
      },
      "file_extension": ".py",
      "mimetype": "text/x-python",
      "name": "python",
      "nbconvert_exporter": "python",
      "pygments_lexer": "ipython3",
      "version": "3.9.6"
    }
  },
  "nbformat": 4,
  "nbformat_minor": 0
}